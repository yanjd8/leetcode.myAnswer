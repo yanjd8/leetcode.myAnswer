{
 "cells": [
  {
   "cell_type": "code",
   "execution_count": 1,
   "metadata": {},
   "outputs": [],
   "source": [
    "def minSubArrayLen(nums, val):\n",
    "    \n",
    "    if sum(nums)<val:\n",
    "        return 0\n",
    "    elif sum(nums)==val:\n",
    "        return len(nums)\n",
    "    elif max(a)>=val:\n",
    "        return 1\n",
    "    \n",
    "    n=2\n",
    "    lenNums= len(nums)\n",
    "    while n <= lenNums:\n",
    "        for i in range(lenNums-n+1):\n",
    "            if sum(nums[i:i+n])>=val:\n",
    "                return n\n",
    "        n+=1\n",
    "    \n",
    "    return n\n",
    "    \n"
   ]
  },
  {
   "cell_type": "code",
   "execution_count": 33,
   "metadata": {},
   "outputs": [],
   "source": [
    "# using the sliding window concept\n",
    "\n",
    "def minSubArrayLen2(nums, target):\n",
    "    \n",
    "    if sum(nums)<target:\n",
    "        return 0\n",
    "    \n",
    "    # define start and end, make fullLen the defaul ans, use total as sum.\n",
    "    start, end = 0, 0\n",
    "    ans = len(nums)\n",
    "    total = 0\n",
    "    \n",
    "    # first while: find the first end\n",
    "    while end < len(nums):\n",
    "        total += nums[end]\n",
    "        if total < target:\n",
    "            end += 1\n",
    "        else:            \n",
    "            ans = min(ans, end-start+1)\n",
    "\n",
    "            #now the end is fixed, try to find the right start\n",
    "            while total >= target:\n",
    "                total -= nums[start]\n",
    "                start += 1\n",
    "                if total >= target:\n",
    "                    ans = min(ans, end-start+1)\n",
    "            end += 1\n",
    "    \n",
    "    return ans\n",
    "        \n",
    "                    "
   ]
  },
  {
   "cell_type": "code",
   "execution_count": null,
   "metadata": {},
   "outputs": [],
   "source": []
  },
  {
   "cell_type": "code",
   "execution_count": 34,
   "metadata": {},
   "outputs": [
    {
     "data": {
      "text/plain": [
       "(0, 0)"
      ]
     },
     "execution_count": 34,
     "metadata": {},
     "output_type": "execute_result"
    }
   ],
   "source": [
    "a=[2,3,1,2,4,3]\n",
    "\n",
    "start=0\n",
    "end=0\n",
    "total=0\n",
    "\n",
    "minSubArrayLen(a, 111), minSubArrayLen2(a, 111)"
   ]
  }
 ],
 "metadata": {
  "kernelspec": {
   "display_name": "Python 3",
   "language": "python",
   "name": "python3"
  },
  "language_info": {
   "codemirror_mode": {
    "name": "ipython",
    "version": 3
   },
   "file_extension": ".py",
   "mimetype": "text/x-python",
   "name": "python",
   "nbconvert_exporter": "python",
   "pygments_lexer": "ipython3",
   "version": "3.7.7"
  }
 },
 "nbformat": 4,
 "nbformat_minor": 4
}
